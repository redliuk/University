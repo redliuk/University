{
 "cells": [
  {
   "cell_type": "code",
   "execution_count": 1,
   "id": "c41069c6",
   "metadata": {},
   "outputs": [
    {
     "name": "stdout",
     "output_type": "stream",
     "text": [
      "Imports Successful\n"
     ]
    }
   ],
   "source": [
    "#importo i moduli necessari, i più importanti dei quali sono quelli forniti dalla libreria qiskit\n",
    "import matplotlib.pyplot as plt\n",
    "import numpy as np\n",
    "from qiskit import QuantumCircuit, Aer, transpile, assemble\n",
    "from qiskit.visualization import plot_histogram\n",
    "from math import gcd\n",
    "from numpy.random import randint\n",
    "import pandas as pd\n",
    "from fractions import Fraction\n",
    "print(\"Imports Successful\")"
   ]
  },
  {
   "cell_type": "code",
   "execution_count": 2,
   "id": "f0b87a68",
   "metadata": {},
   "outputs": [],
   "source": [
    "# costruzione dell'operatore unario U per l'algoritmo di stima della fase\n",
    "# questo algoritmo è adattato per il caso di studio scelto: N=15\n",
    "def c_amod15(a, power):\n",
    "    \"\"\"Controlled multiplication by a mod 15\"\"\"\n",
    "    if a not in [2,4,7,8,11,13]:\n",
    "        raise ValueError(\"'a' must be 2,4,7,8,11 or 13\")\n",
    "    U = QuantumCircuit(4)        #creo un circuito con 4 bit\n",
    "    for iteration in range(power):\n",
    "        if a in [2,13]:\n",
    "            U.swap(0,1)\n",
    "            U.swap(1,2)\n",
    "            U.swap(2,3)\n",
    "        if a in [7,8]:\n",
    "            U.swap(2,3)\n",
    "            U.swap(1,2)\n",
    "            U.swap(0,1)\n",
    "        if a in [4, 11]:\n",
    "            U.swap(1,3)\n",
    "            U.swap(0,2)\n",
    "        if a in [7,11,13]:\n",
    "            for q in range(4):\n",
    "                U.x(q)\n",
    "    U = U.to_gate()\n",
    "    U.name = \"%i^%i mod 15\" % (a, power)\n",
    "    c_U = U.control() #trasformo il circuito in porta logica controllata\n",
    "    return c_U"
   ]
  },
  {
   "cell_type": "code",
   "execution_count": 3,
   "id": "cf635020",
   "metadata": {},
   "outputs": [],
   "source": [
    "# definizione algoritmo dell'inversa della Trasformata di Fourier Quantistica\n",
    "def qft_dagger(n):\n",
    "    qc = QuantumCircuit(n) #creo il circuito quantistico\n",
    "    for qubit in range(n//2):\n",
    "        qc.swap(qubit, n-qubit-1) #inverto l'ordine dei qbit perchè creiamo l'inversa della trasformata\n",
    "    for j in range(n):\n",
    "        for m in range(j):\n",
    "            qc.cp(-np.pi/float(2**(j-m)), m, j) #applico ad ogni qubit delle rotazioni controllate\n",
    "        qc.h(j) #applico hadamard ai qbit\n",
    "    qc.name = \"QFT†\"\n",
    "    return qc"
   ]
  },
  {
   "cell_type": "code",
   "execution_count": 4,
   "id": "27602854",
   "metadata": {},
   "outputs": [],
   "source": [
    "# algoritmo di stima della fase\n",
    "def qpe_amod15(a):\n",
    "    qc = QuantumCircuit(4+n_count, n_count)\n",
    "    for q in range(n_count):\n",
    "        qc.h(q)     # inizializzazione dei qbit nello stato |+>\n",
    "    qc.x(3+n_count) # registro ausiliario nello stato |1>\n",
    "    for q in range(n_count): # Applicazione dell'operatore U\n",
    "        qc.append(c_amod15(a, 2**q), \n",
    "                 [q] + [i+n_count for i in range(4)])\n",
    "    # applicazione dell'inversa della Trasformata di Fourier Quantistica\n",
    "    qc.append(qft_dagger(n_count), range(n_count))\n",
    "    # applicazione della misura sul circuito\n",
    "    qc.measure(range(n_count), range(n_count))\n",
    "    # operazioni per la crazione dell'istogramma\n",
    "    aer_sim = Aer.get_backend('aer_simulator')\n",
    "    t_qc = transpile(qc, aer_sim)\n",
    "    qobj = assemble(t_qc, shots=1)\n",
    "    result = aer_sim.run(qobj, memory=True).result()\n",
    "    readings = result.get_memory()\n",
    "    counts = result.get_counts()\n",
    "    # stampa delle misure delle fasi\n",
    "    print(\"Register Reading: \" + readings[0])\n",
    "    phase = int(readings[0],2)/(2**n_count)\n",
    "    print(\"Corresponding Phase: %f\" % phase)\n",
    "    plot_histogram(counts)\n",
    "    return phase, qc\n"
   ]
  },
  {
   "cell_type": "code",
   "execution_count": 5,
   "id": "29b7e38f",
   "metadata": {},
   "outputs": [
    {
     "name": "stdout",
     "output_type": "stream",
     "text": [
      "\n",
      "Attempt 1:\n",
      "Register Reading: 11000000\n",
      "Corresponding Phase: 0.750000\n",
      "Result: r = 4\n",
      "Guessed Factors: 3 and 5\n",
      "*** Non-trivial factor found: 3 ***\n",
      "*** Non-trivial factor found: 5 ***\n"
     ]
    }
   ],
   "source": [
    "# andrò a fattorizzare il numero 15 prodotto dei numeri primi 3 e 5\n",
    "N = 15\n",
    "# a è un numero scelto random che sia minore di 15 esclouso 1\n",
    "# per replicabilità degli outpu fisso arbitrariamente a=7\n",
    "a = 7\n",
    "# Inizializzazione del circuito quantistico\n",
    "# questo numero è dato dai 4 qbit necessari per codificare il valore decimanle 15\n",
    "# e da 4 qubit necessari per l'algoritmo di stima della fase\n",
    "n_count = 8\n",
    "#inizialmente non ho nessun fattore\n",
    "factor_found = False\n",
    "attempt = 0\n",
    "\n",
    "qc = QuantumCircuit(4+n_count, n_count)\n",
    "\n",
    "# ripeto l'algoritmo finchè non trovo un fattore primo valido\n",
    "while not factor_found:\n",
    "    attempt += 1\n",
    "    print(\"\\nAttempt %i:\" % attempt)\n",
    "    phase, qc = qpe_amod15(a) \n",
    "    frac = Fraction(phase).limit_denominator(N)\n",
    "    r = frac.denominator\n",
    "    print(\"Result: r = %i\" % r)\n",
    "    if phase != 0:\n",
    "        guesses = [gcd(a**(r//2)-1, N), gcd(a**(r//2)+1, N)]\n",
    "        print(\"Guessed Factors: %i and %i\" % (guesses[0], guesses[1]))\n",
    "        for guess in guesses:\n",
    "            if guess not in [1,N] and (N % guess) == 0:\n",
    "                print(\"*** Non-trivial factor found: %i ***\" % guess)\n",
    "                factor_found = True\n",
    "\n",
    "\n",
    "aer_sim = Aer.get_backend('aer_simulator')\n",
    "t_qc = transpile(qc, aer_sim)\n",
    "qobj = assemble(t_qc)\n",
    "results = aer_sim.run(qobj).result()\n",
    "counts = results.get_counts()\n",
    "#i comandi che seguono servono per la stampa del disegno deil circuito\n",
    "#qc.draw(fold=-1)"
   ]
  },
  {
   "cell_type": "code",
   "execution_count": 6,
   "id": "d55430c1",
   "metadata": {},
   "outputs": [
    {
     "data": {
      "image/png": "[encoded data removed]",
      "text/plain": [
       "<Figure size 504x360 with 1 Axes>"
      ]
     },
     "execution_count": 6,
     "metadata": {},
     "output_type": "execute_result"
    }
   ],
   "source": [
    "plot_histogram(counts)"
   ]
  },
  {
   "cell_type": "code",
   "execution_count": null,
   "id": "9a84c8f3",
   "metadata": {},
   "outputs": [],
   "source": []
  }
 ],
 "metadata": {
  "kernelspec": {
   "display_name": "Python 3 (ipykernel)",
   "language": "python",
   "name": "python3"
  },
  "language_info": {
   "codemirror_mode": {
    "name": "ipython",
    "version": 3
   },
   "file_extension": ".py",
   "mimetype": "text/x-python",
   "name": "python",
   "nbconvert_exporter": "python",
   "pygments_lexer": "ipython3",
   "version": "3.10.4"
  }
 },
 "nbformat": 4,
 "nbformat_minor": 5
}
